{
 "cells": [
  {
   "cell_type": "markdown",
   "metadata": {},
   "source": [
    "# Unit 05\n",
    "\n",
    "* Static and class methods\n",
    "* Typechecks\n",
    "* circular imports"
   ]
  },
  {
   "cell_type": "markdown",
   "metadata": {},
   "source": [
    "# Static and class methods\n",
    "\n",
    "## Static methods\n",
    "A class method is a method that is bound to a class instead of its object (so no \"self\"). It doesn't require creation of a class instance (same as the staticmethod)."
   ]
  },
  {
   "cell_type": "markdown",
   "metadata": {},
   "source": [
    "This is the syntax of what actually happens in the background:  \n",
    "__Parameter function__ - Function that needs to be converted into a class method\n",
    "The classmethod() method returns a class method for the given function.  \n",
    "__Returnvalue__- a class method for the given function.\n",
    "```python\n",
    "classmethod(function)\n",
    "```"
   ]
  },
  {
   "cell_type": "markdown",
   "metadata": {},
   "source": [
    "In newer Python versions, you can use the @classmethod decorator for classmethod definition. The first argument is allways the class itseld as cls, so the class method is always attached to a class."
   ]
  },
  {
   "cell_type": "code",
   "execution_count": null,
   "metadata": {},
   "outputs": [],
   "source": [
    "@classmethod\n",
    "def clsfunction(cls, args):\n",
    "    pass"
   ]
  },
  {
   "cell_type": "markdown",
   "metadata": {},
   "source": [
    "We can call the class method both by the class or its object, like this: \n",
    "```python\n",
    "Class.clsfunction(args)\n",
    "Class().clsfunction(args)\n",
    "```"
   ]
  },
  {
   "cell_type": "code",
   "execution_count": null,
   "metadata": {},
   "outputs": [],
   "source": [
    "#Our usual Example:\n",
    "from datetime import date\n",
    "\n",
    "class Person:\n",
    "    \n",
    "    def __init__(self, first_name, age):\n",
    "        self.first_name = first_name\n",
    "        self.age = age\n",
    "        self.hobbies = []\n",
    "        self._address = None\n",
    "        \n",
    "    @classmethod\n",
    "    def Age(cls, birth_year, name):\n",
    "#         print(type(cls(name, date.today().year - birth_year)))\n",
    "        return cls(name, date.today().year - birth_year)\n"
   ]
  },
  {
   "cell_type": "code",
   "execution_count": null,
   "metadata": {},
   "outputs": [],
   "source": [
    "# Now we can create an instance like this:\n",
    "hans = Person(\"Hans\", 22)\n",
    "# or if we only have the birth year:\n",
    "nessi = Person.Age(1995,\"Nessi\")\n",
    "# or this is the same:\n",
    "anja = Person.Age(1993,\"Anja\")"
   ]
  },
  {
   "cell_type": "code",
   "execution_count": null,
   "metadata": {},
   "outputs": [],
   "source": [
    "print(\"{} is {} years old.\".format(hans.first_name, hans.age))\n",
    "print(\"{name} is {age} years old.\".format(age = nessi.age, name = nessi.first_name))\n",
    "print(anja.first_name,\"is\", anja.age, \"years old.\")"
   ]
  },
  {
   "cell_type": "markdown",
   "metadata": {},
   "source": [
    "## Static methods\n",
    "A static method is a method that is bound to a class instead of its object (so no \"self\") just like the class method. It works very similar to the class method:"
   ]
  },
  {
   "cell_type": "code",
   "execution_count": null,
   "metadata": {},
   "outputs": [],
   "source": [
    "@staticmethod\n",
    "def staticfunction(args):\n",
    "    pass\n",
    "\n",
    "# what happens in the backround (same as cls method)\n",
    "# staticmethod() returns a static method for a function passed as the parameter"
   ]
  },
  {
   "cell_type": "markdown",
   "metadata": {},
   "source": [
    "The difference between a static method and a class method is:\n",
    "\n",
    "* Static methods deal only with the parameters and know nothing about the class. it is only part of the class because it fits into the class thematically\n",
    "* Class methods parameter is the class itself so it works with the class."
   ]
  },
  {
   "cell_type": "markdown",
   "metadata": {},
   "source": [
    "We can call the static method just like the the class method: \n",
    "```python\n",
    "Class.saticfunction(args)\n",
    "Class().staticfunction(args)\n",
    "```"
   ]
  },
  {
   "cell_type": "code",
   "execution_count": null,
   "metadata": {},
   "outputs": [],
   "source": [
    "#Our usual Example:\n",
    "from datetime import date\n",
    "\n",
    "class Person:\n",
    "    \n",
    "    def __init__(self, first_name, age, date):\n",
    "        self.first_name = first_name\n",
    "        self.age = age\n",
    "        self.birth_date = date\n",
    "        self.hobbies = []\n",
    "        self._address = None\n",
    "\n",
    "    @staticmethod\n",
    "    def convertDate(date):\n",
    "        return date.replace(\"/\", \"-\")"
   ]
  },
  {
   "cell_type": "code",
   "execution_count": null,
   "metadata": {},
   "outputs": [],
   "source": [
    "# Now we can create an instance like this:\n",
    "sevi = Person(\"Sevi\", 25, \"03/03/1994\")"
   ]
  },
  {
   "cell_type": "code",
   "execution_count": null,
   "metadata": {},
   "outputs": [],
   "source": [
    "print(\"{} celebrates on {}.\".format(sevi.first_name, Person.convertDate(sevi.birth_date)))\n",
    "print(\"{name} Happy Birthday, it is {day}.\".format(day = sevi.birth_date, name = sevi.first_name))"
   ]
  },
  {
   "cell_type": "markdown",
   "metadata": {},
   "source": [
    "# Typchecks\n",
    "\n",
    "## Type()\n",
    "We use this in order to figure out which type of variable we are dealing with during runtime."
   ]
  },
  {
   "cell_type": "code",
   "execution_count": null,
   "metadata": {},
   "outputs": [],
   "source": [
    "print(type(1))\n",
    "print(type(\"Max\"))\n",
    "print(type(hans))\n",
    "print(type(anja))\n",
    "print(type((sevi,nessi)))"
   ]
  },
  {
   "cell_type": "code",
   "execution_count": null,
   "metadata": {},
   "outputs": [],
   "source": [
    "maximilian = \"Max\"\n",
    "# maximilian = 1\n",
    "if type(maximilian) != str:\n",
    "    print(\"This is not a name\")"
   ]
  },
  {
   "cell_type": "markdown",
   "metadata": {},
   "source": [
    "## Isinstance()\n",
    "Checks if the object (first argument) is an instance or subclass of a certain class (second argument)."
   ]
  },
  {
   "cell_type": "markdown",
   "metadata": {},
   "source": [
    "Better use isinstance() for checking if an object is of the right type, because this works as expected also with subclassing. Also it directly returns a boolean."
   ]
  },
  {
   "cell_type": "code",
   "execution_count": null,
   "metadata": {},
   "outputs": [],
   "source": [
    "print(type(sevi))\n",
    "isinstance(sevi, Person)"
   ]
  },
  {
   "cell_type": "code",
   "execution_count": null,
   "metadata": {},
   "outputs": [],
   "source": [
    "print(type(anja))\n",
    "isinstance(anja, Person)"
   ]
  },
  {
   "cell_type": "markdown",
   "metadata": {},
   "source": [
    "What happened here?"
   ]
  },
  {
   "cell_type": "code",
   "execution_count": null,
   "metadata": {},
   "outputs": [],
   "source": [
    "print(anja.__dict__)"
   ]
  },
  {
   "cell_type": "code",
   "execution_count": null,
   "metadata": {},
   "outputs": [],
   "source": [
    "print(sevi.__dict__)"
   ]
  },
  {
   "cell_type": "markdown",
   "metadata": {},
   "source": [
    "Person was overwriten by a new class and can therefore not be identified as an object of Person anymore. Don't worry that will not be a problem in your assignment ;P"
   ]
  },
  {
   "cell_type": "markdown",
   "metadata": {},
   "source": [
    "## What is a Circular Import?\n",
    "Circular Import occurs when two or more programs are in a circular dependency created with the import statement in Python.\n",
    "\n",
    "modul A imports module B <-> module B imports module A\n",
    "\n",
    "This is mostly the result of bad design and can be prevented by combining the two modules or by the conclusion that the dependency is not required."
   ]
  },
  {
   "cell_type": "markdown",
   "metadata": {},
   "source": [
    "You should avoid this in your assignments too!"
   ]
  }
 ],
 "metadata": {
  "kernelspec": {
   "display_name": "Python 3",
   "language": "python",
   "name": "python3"
  },
  "language_info": {
   "codemirror_mode": {
    "name": "ipython",
    "version": 3
   },
   "file_extension": ".py",
   "mimetype": "text/x-python",
   "name": "python",
   "nbconvert_exporter": "python",
   "pygments_lexer": "ipython3",
   "version": "3.7.2"
  }
 },
 "nbformat": 4,
 "nbformat_minor": 2
}
