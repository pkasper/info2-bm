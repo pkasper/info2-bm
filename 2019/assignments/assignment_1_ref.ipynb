{
 "cells": [
  {
   "cell_type": "code",
   "execution_count": 1,
   "metadata": {},
   "outputs": [],
   "source": [
    "######################################################################\n",
    "# Author:      [FIRST NAME] [LAST NAME]\n",
    "# MatNr:       [MATR NR]\n",
    "# Description: [SHORTDESCRIPTION]\n",
    "# Comments:    [ANY RELEVANT COMMENTS.\n",
    "#              CAN BE MULTILINE]\n",
    "######################################################################"
   ]
  },
  {
   "cell_type": "markdown",
   "metadata": {},
   "source": [
    "_Informatik 2 für Biomedical Engineering 2019_"
   ]
  },
  {
   "cell_type": "markdown",
   "metadata": {},
   "source": [
    "# Assignment 1\n",
    "Insgesamt sind maximal 10 Punkte erreichbar. Achten Sie darauf, die Namen aller Klassen, Attribute, Methoden, Dateien sowie alle Aus- und Rückgaben __exakt__ wie gefordert einhalten!"
   ]
  },
  {
   "cell_type": "markdown",
   "metadata": {},
   "source": [
    "## 1) Einfache Klassen "
   ]
  },
  {
   "cell_type": "markdown",
   "metadata": {},
   "source": [
    "### 1.1) Simple Klassen (1P)"
   ]
  },
  {
   "cell_type": "markdown",
   "metadata": {},
   "source": [
    "Schreiben Sie eine Klasse ```BasicPerson```. Deren Konstruktor soll folgende Argumente erwarten und in gleichlautende protected-Attribute (mit “\\_” am Anfang) speichern:  \n",
    "* ```name``` -  (string)\n",
    "* ```birthdate``` - (string, im format YYYY-MM-DD)\n",
    "\n",
    "Überprüfen Sie die Datentypen im Konstruktor bevor Sie die Attribute speichern."
   ]
  },
  {
   "cell_type": "code",
   "execution_count": 2,
   "metadata": {},
   "outputs": [],
   "source": [
    "# Write your code for 1.1 below\n",
    "class BasicPerson:\n",
    "    def __init__(self, name, birthdate):\n",
    "        if not isinstance(name, str):\n",
    "            raise TypeError(\"name has to be a string\")\n",
    "        if not isinstance(birthdate, str):\n",
    "            raise TypeError(\"birthdate has to be a string, use format YYYY-MM-DD\")\n",
    "            \n",
    "        self._name = name\n",
    "        self._birthdate = birthdate"
   ]
  },
  {
   "cell_type": "code",
   "execution_count": 3,
   "metadata": {},
   "outputs": [
    {
     "name": "stdout",
     "output_type": "stream",
     "text": [
      "Sevi\n"
     ]
    }
   ],
   "source": [
    "# Cell to test your code above\n",
    "sevi = BasicPerson(\"Sevi\", \"1993-01-30\")\n",
    "print(sevi._name)\n",
    "# michi = BasicPerson(123, \"1993-01-30\")\n",
    "# manu = BasicPerson(\"Manu\", 1993)"
   ]
  },
  {
   "cell_type": "markdown",
   "metadata": {},
   "source": [
    "### 1.2) Properties & Methoden"
   ]
  },
  {
   "cell_type": "markdown",
   "metadata": {},
   "source": [
    "Schreiben Sie eine Klasse ```Person```. Der Konstruktor erwartet wieder die Parameter ```name```(string) und ```birthdate``` (string)"
   ]
  },
  {
   "cell_type": "markdown",
   "metadata": {},
   "source": [
    "#### 1.2.1) Getter&Setter (1P)\n",
    "\n",
    "Schreiben Sie Getter und Setter Funktionen (über Properties implementiert) für die Attribute ```name```und ```birthdate```. (Hinweis: Property-Funktionen haben keinen ```_``` - Prefix im Namen).  \n",
    "Die Getter sollen hier lediglich ihre zugehörigen Attribute zurückgeben.  \n",
    "Bei den Setter Funktionen sind Typechecks notwendig.\n",
    "Der Konstruktor der Klasse soll nun die Setter-Funktionen der Properties verwenden\n",
    "\n",
    "Fügen Sie zwei zusätzliche Properties hinzu: ```height``` (int, in cm) und ```weight``` (float, in kg). Deren Setter sollen Datentyp sowie Wertebereich (z.B., keine negativen Werte) überprüfen und gegebenenfalls passende Exceptions mit hilfreichen und aussagekräftigen Fehlermeldungen raisen. Der jeweilige Getter soll vor der Wertrückgabe überprüfen, ob das dazugehörige Attribut überhaupt schon gesetzt wurde, andernfalls eine entsprechende Exception werfen."
   ]
  },
  {
   "cell_type": "markdown",
   "metadata": {},
   "source": [
    "#### 1.2.3)  Methoden 1 (1P)\n",
    "Schreiben Sie (in der Klasse ```Person```) eine Methode ```calculate_bmi``` (ohne Argumente!) welche den Body-Mass-Index der Person berechnet und zurückgibt!\n",
    "\n",
    "Die Berechnung des BMI ist wie folgt:\n",
    "\n",
    "$BMI = \\frac{kg}{m^2}$\n",
    "\n",
    "$kg$ ... Gewicht in Kilogramm  \n",
    "$m$ ... Größe in Meter"
   ]
  },
  {
   "cell_type": "markdown",
   "metadata": {},
   "source": [
    "#### 1.2.4 Methoden 2 (1P)\n",
    "Fügen Sie der ```Person```-Klasse nun eine Methode ```introduce``` hinzu. Sie soll folgende Meldung __zurück__geben:  \n",
    "```Hi, my name is {name} and I was born on {birthdate}!```  \n",
    "Dabei sollen ```{name}``` und ```{birthdate}``` durch die entsprechenden Werte der Attribute ersetzt werden."
   ]
  },
  {
   "cell_type": "markdown",
   "metadata": {},
   "source": [
    "#### 1.2.5 Klassenvariablen (1P)\n",
    "\n",
    "Legen Sie eine Klassenvariable ```count``` an, die mitzählt, wie viele Objekte der Klasse “Person” im Moment existieren. Sie soll also (beginnend bei 0) bei jeder Objekterstellung inkrementiert, bei jedem Löschen eines Objekts (der “Person”-Klasse) dekrementiert werden.\n",
    "\n",
    "Hinweis: Implementieren Sie den Destruktor mittels einer  ```__del__(self)``` Funktion"
   ]
  },
  {
   "cell_type": "code",
   "execution_count": 5,
   "metadata": {},
   "outputs": [],
   "source": [
    "# Write your code for 1.2 below\n",
    "class Person:\n",
    "    count = 0\n",
    "    def __init__(self, name, birthdate):            \n",
    "        self.name = name\n",
    "        self.birthdate = birthdate\n",
    "        self._height = None\n",
    "        self._weight = None\n",
    "        Person.count += 1\n",
    "        \n",
    "        \n",
    "    def __del__(self):\n",
    "        Person.count -= 1\n",
    "    \n",
    "    @property\n",
    "    def name(self):\n",
    "        return self._name\n",
    "    \n",
    "    @name.setter\n",
    "    def name(self, name):\n",
    "        if not isinstance(name, str):\n",
    "            raise TypeError(\"name has to be a string\")\n",
    "        self._name = name\n",
    "        \n",
    "    \n",
    "    @property\n",
    "    def birthdate(self):\n",
    "        return self._birthdate\n",
    "    \n",
    "    @birthdate.setter\n",
    "    def birthdate(self, birthdate):\n",
    "        if not isinstance(birthdate, str):\n",
    "            raise TypeError(\"birthdate has to be a string, use format YYYY-MM-DD\")\n",
    "        self._birthdate = birthdate\n",
    "\n",
    "    \n",
    "    @property\n",
    "    def height(self):\n",
    "        if self._height is None:\n",
    "            raise ValueError(\"height has not been set yet\")\n",
    "        return self._height\n",
    "    \n",
    "    @height.setter\n",
    "    def height(self, height):\n",
    "        if not isinstance(height, int):\n",
    "            raise TypeError(\"height has to be of type int\")\n",
    "        if not (30 < height < 300):\n",
    "            raise ValueError(\"specify height in cm!\")\n",
    "        self._height = height\n",
    "        \n",
    "    \n",
    "    @property\n",
    "    def weight(self):\n",
    "        if self._weight is None:\n",
    "            raise ValueError(\"weight has not been set yet\")\n",
    "        return self._weight\n",
    "    \n",
    "    @weight.setter\n",
    "    def weight(self, weight):\n",
    "        if isinstance(weight, int):\n",
    "            weight = float(weight)\n",
    "        if not isinstance(weight, float):\n",
    "            raise TypeError(\"weight has to be of type float\")\n",
    "        if weight < 0:\n",
    "            raise ValueError(\"weight has to  be positive\")\n",
    "        self._weight = weight\n",
    "        \n",
    "        \n",
    "    def calculate_bmi(self):\n",
    "        return self.weight/(self.height/100)**2\n",
    "\n",
    "    def introduce(self):\n",
    "        return f\"Hi, my name is {self.name} and I was born on {self.birthdate}!\""
   ]
  },
  {
   "cell_type": "code",
   "execution_count": 6,
   "metadata": {},
   "outputs": [
    {
     "data": {
      "text/plain": [
       "21.06674327300584"
      ]
     },
     "execution_count": 6,
     "metadata": {},
     "output_type": "execute_result"
    }
   ],
   "source": [
    "sevi = Person('Sevi', '1993-01-30')\n",
    "sevi.height = 177\n",
    "sevi.weight = 66.0\n",
    "sevi.calculate_bmi()"
   ]
  },
  {
   "cell_type": "code",
   "execution_count": 5,
   "metadata": {},
   "outputs": [
    {
     "ename": "ValueError",
     "evalue": "weight has not been set yet",
     "output_type": "error",
     "traceback": [
      "\u001b[1;31m---------------------------------------------------------------------------\u001b[0m",
      "\u001b[1;31mValueError\u001b[0m                                Traceback (most recent call last)",
      "\u001b[1;32m<ipython-input-5-479b21f09aeb>\u001b[0m in \u001b[0;36m<module>\u001b[1;34m\u001b[0m\n\u001b[0;32m      1\u001b[0m \u001b[1;31m# Cell to test your code above\u001b[0m\u001b[1;33m\u001b[0m\u001b[1;33m\u001b[0m\u001b[1;33m\u001b[0m\u001b[0m\n\u001b[0;32m      2\u001b[0m \u001b[0mchris\u001b[0m \u001b[1;33m=\u001b[0m \u001b[0mPerson\u001b[0m\u001b[1;33m(\u001b[0m\u001b[1;34m\"Chris\"\u001b[0m\u001b[1;33m,\u001b[0m \u001b[1;34m\"1991-05-23\"\u001b[0m\u001b[1;33m)\u001b[0m\u001b[1;33m\u001b[0m\u001b[1;33m\u001b[0m\u001b[0m\n\u001b[1;32m----> 3\u001b[1;33m \u001b[0mprint\u001b[0m\u001b[1;33m(\u001b[0m\u001b[0mchris\u001b[0m\u001b[1;33m.\u001b[0m\u001b[0mcalculate_bmi\u001b[0m\u001b[1;33m(\u001b[0m\u001b[1;33m)\u001b[0m\u001b[1;33m)\u001b[0m\u001b[1;33m\u001b[0m\u001b[1;33m\u001b[0m\u001b[0m\n\u001b[0m",
      "\u001b[1;32m<ipython-input-4-03f4cce148bb>\u001b[0m in \u001b[0;36mcalculate_bmi\u001b[1;34m(self)\u001b[0m\n\u001b[0;32m     68\u001b[0m \u001b[1;33m\u001b[0m\u001b[0m\n\u001b[0;32m     69\u001b[0m     \u001b[1;32mdef\u001b[0m \u001b[0mcalculate_bmi\u001b[0m\u001b[1;33m(\u001b[0m\u001b[0mself\u001b[0m\u001b[1;33m)\u001b[0m\u001b[1;33m:\u001b[0m\u001b[1;33m\u001b[0m\u001b[1;33m\u001b[0m\u001b[0m\n\u001b[1;32m---> 70\u001b[1;33m         \u001b[1;32mreturn\u001b[0m \u001b[0mself\u001b[0m\u001b[1;33m.\u001b[0m\u001b[0mweight\u001b[0m\u001b[1;33m/\u001b[0m\u001b[1;33m(\u001b[0m\u001b[0mself\u001b[0m\u001b[1;33m.\u001b[0m\u001b[0mheight\u001b[0m\u001b[1;33m/\u001b[0m\u001b[1;36m100\u001b[0m\u001b[1;33m)\u001b[0m\u001b[1;33m**\u001b[0m\u001b[1;36m0.5\u001b[0m\u001b[1;33m\u001b[0m\u001b[1;33m\u001b[0m\u001b[0m\n\u001b[0m\u001b[0;32m     71\u001b[0m \u001b[1;33m\u001b[0m\u001b[0m\n\u001b[0;32m     72\u001b[0m     \u001b[1;32mdef\u001b[0m \u001b[0mintroduce\u001b[0m\u001b[1;33m(\u001b[0m\u001b[0mself\u001b[0m\u001b[1;33m)\u001b[0m\u001b[1;33m:\u001b[0m\u001b[1;33m\u001b[0m\u001b[1;33m\u001b[0m\u001b[0m\n",
      "\u001b[1;32m<ipython-input-4-03f4cce148bb>\u001b[0m in \u001b[0;36mweight\u001b[1;34m(self)\u001b[0m\n\u001b[0;32m     53\u001b[0m     \u001b[1;32mdef\u001b[0m \u001b[0mweight\u001b[0m\u001b[1;33m(\u001b[0m\u001b[0mself\u001b[0m\u001b[1;33m)\u001b[0m\u001b[1;33m:\u001b[0m\u001b[1;33m\u001b[0m\u001b[1;33m\u001b[0m\u001b[0m\n\u001b[0;32m     54\u001b[0m         \u001b[1;32mif\u001b[0m \u001b[0mself\u001b[0m\u001b[1;33m.\u001b[0m\u001b[0m_weight\u001b[0m \u001b[1;32mis\u001b[0m \u001b[1;32mNone\u001b[0m\u001b[1;33m:\u001b[0m\u001b[1;33m\u001b[0m\u001b[1;33m\u001b[0m\u001b[0m\n\u001b[1;32m---> 55\u001b[1;33m             \u001b[1;32mraise\u001b[0m \u001b[0mValueError\u001b[0m\u001b[1;33m(\u001b[0m\u001b[1;34m\"weight has not been set yet\"\u001b[0m\u001b[1;33m)\u001b[0m\u001b[1;33m\u001b[0m\u001b[1;33m\u001b[0m\u001b[0m\n\u001b[0m\u001b[0;32m     56\u001b[0m         \u001b[1;32mreturn\u001b[0m \u001b[0mself\u001b[0m\u001b[1;33m.\u001b[0m\u001b[0m_weight\u001b[0m\u001b[1;33m\u001b[0m\u001b[1;33m\u001b[0m\u001b[0m\n\u001b[0;32m     57\u001b[0m \u001b[1;33m\u001b[0m\u001b[0m\n",
      "\u001b[1;31mValueError\u001b[0m: weight has not been set yet"
     ]
    }
   ],
   "source": [
    "# Cell to test your code above\n",
    "chris = Person(\"Chris\", \"1991-05-23\")\n",
    "print(chris.calculate_bmi())"
   ]
  },
  {
   "cell_type": "code",
   "execution_count": null,
   "metadata": {},
   "outputs": [],
   "source": [
    "chris.weight = -10"
   ]
  },
  {
   "cell_type": "code",
   "execution_count": null,
   "metadata": {},
   "outputs": [],
   "source": [
    "chris.weight = 66\n",
    "chris.height = 177\n",
    "print(chris.introduce())\n",
    "print(chris.calculate_bmi())"
   ]
  },
  {
   "cell_type": "code",
   "execution_count": null,
   "metadata": {},
   "outputs": [],
   "source": [
    "print(Person.count)\n",
    "anja = Person(\"Anja\", \"1993-04-19\")\n",
    "print(Person.count)\n",
    "del anja\n",
    "print(Person.count)"
   ]
  },
  {
   "cell_type": "raw",
   "metadata": {},
   "source": [
    "## 2) Vererbung"
   ]
  },
  {
   "cell_type": "markdown",
   "metadata": {},
   "source": [
    "### 2.1) Einfache Vererbung (1P)\n",
    "Leiten Sie von der Klasse ```Person``` eine Klasse ```Student``` ab.  \n",
    "Deren Konstruktor erwartet - __zusätzlich__ zu den Argumenten des ```Person```-Konstruktors - noch ```field_of_study```, eine Studienrichtung (als string). Implementieren Sie ```field_of_study``` als Property (mit Getter und Setter Funktionen) und verwenden Sie diese im Konstruktor."
   ]
  },
  {
   "cell_type": "markdown",
   "metadata": {},
   "source": [
    "### 2.2) Methoden Überschreiben (1P)\n",
    "Schreiben Sie eine eigene ```introduce```-Methode für die ```Student```-Klasse! Der Rückgabestring soll wie folgt aussehen:  \n",
    "```Hi, my name is {name} and I study {field_of_study}!```  \n",
    "Ersetzen Sie ```{name}```und ```{field_of_study}``` wieder durch die entsprechenden Werte der Instanz."
   ]
  },
  {
   "cell_type": "code",
   "execution_count": 7,
   "metadata": {},
   "outputs": [],
   "source": [
    "# Write your code for 2 below\n",
    "class Student(Person):\n",
    "    def __init__(self, name, birthdate, field_of_study):            \n",
    "        self.field_of_study = field_of_study\n",
    "        super().__init__(name, birthdate)\n",
    "\n",
    "        \n",
    "    @property\n",
    "    def field_of_study(self):\n",
    "        return self._field_of_study\n",
    "    \n",
    "    @field_of_study.setter\n",
    "    def field_of_study(self, field_of_study):\n",
    "        if not isinstance(field_of_study, str):\n",
    "            raise TypeError(\"field_of_study has to be a string\")\n",
    "        self._field_of_study = field_of_study\n",
    "        \n",
    "        \n",
    "    def introduce(self):\n",
    "        return f\"Hi, my name is {self.name} and I study {self.field_of_study}!\""
   ]
  },
  {
   "cell_type": "code",
   "execution_count": 8,
   "metadata": {},
   "outputs": [
    {
     "name": "stdout",
     "output_type": "stream",
     "text": [
      "Hi, my name is Nessi and I study Biomed!\n"
     ]
    }
   ],
   "source": [
    "# Cell to test your code above\n",
    "nessi = Student(\"Nessi\", \"1998-02-03\", \"Biomed\")\n",
    "print(nessi.introduce())\n"
   ]
  },
  {
   "cell_type": "markdown",
   "metadata": {},
   "source": [
    "## 3) Komposition"
   ]
  },
  {
   "cell_type": "markdown",
   "metadata": {},
   "source": [
    "### 3.1) Flexible Objekterstellung (1P)\n",
    "Erstellen Sie eine Klasse ```Dean```  \n",
    "Diese Klasse beinhaltet ein privates ```Person``` Objekt, welches über die Property ```person``` von außen Verfügbar ist (read-only, die person Instanz darf also nicht überschrieben werden). Wie auch ```Student``` hat ```Dean``` ein ```field_of_study``` Attribut.\n",
    "\n",
    "Ermöglichen Sie das Erstellen der ```Dean```-Instanz über die folgenden zwei Varianten erstellen lässt:\n",
    "* ```name (string), birthdate (string), field_of_study (string)```\n",
    "* ```person (Person), field_of_study (string)```\n",
    "\n",
    "Im ersten Fall muss im ```Dean``` Konstruktor auch das ```Person```Objekt neu erstellt werden. "
   ]
  },
  {
   "cell_type": "code",
   "execution_count": 9,
   "metadata": {},
   "outputs": [],
   "source": [
    "# Write your code for 3 below\n",
    "class Dean:\n",
    "    def __init__(self, name=None, birthdate=None, person=None, field_of_study=None):\n",
    "        if name and birthdate:\n",
    "            self._person = Person(name, birthdate)\n",
    "        if person:\n",
    "            self._person = person\n",
    "        self.field_of_study = field_of_study\n",
    "        \n",
    "    @property\n",
    "    def person(self):\n",
    "        return self._person\n"
   ]
  },
  {
   "cell_type": "markdown",
   "metadata": {},
   "source": [
    "Hinweis: Erstellen Sie nun einige Student und Dean (über beide Varianten) Objekte und achten Sie den Wert der Klassenvariable ```count``` der ```Person``` Klasse nach jeder Erstellung."
   ]
  },
  {
   "cell_type": "code",
   "execution_count": 10,
   "metadata": {},
   "outputs": [
    {
     "name": "stdout",
     "output_type": "stream",
     "text": [
      "2\n",
      "3\n",
      "4\n",
      "5\n",
      "5\n"
     ]
    }
   ],
   "source": [
    "# Cell to test your code above\n",
    "print(Person.count)\n",
    "hermann = Dean(name=\"Hermann\", birthdate=\"1999-01-01\", field_of_study=\"BME\")\n",
    "print(Person.count)\n",
    "maxl = Student(\"Maxl\", \"1900-34-32\", \"BME\")\n",
    "print(Person.count)\n",
    "meli = Person(\"Meli\", \"1955-05-05\")\n",
    "print(Person.count)\n",
    "meli_dean = Dean(person=meli, field_of_study=\"Informatics\")\n",
    "print(Person.count)\n",
    "\n"
   ]
  },
  {
   "cell_type": "markdown",
   "metadata": {},
   "source": [
    "## 4) Mehrfachvererbung (2P)"
   ]
  },
  {
   "cell_type": "markdown",
   "metadata": {},
   "source": [
    "Schreiben Sie eine Klasse ```Animal```. Ihr Konstruktor soll ```species``` (Tierart, string) und ```sound``` (Geräusch, string) erwarten und diese über entsprechende Properties speichern.\n",
    "\n",
    "Erstellen nun eine weitere Klasse: “Superhero”. Sie soll von ```Person``` und ```Animal``` abgeleitet sein. Der Konstruktor soll nun ```name```, ```sex```, ```species``` und ```sound```, und den entsprechenden Attributen der Basisklassen zuweisen. ```sex``` ist ein neues Attribut, welches nur in der ```Superhero``` Klasse verfügbar ist und entweder den Wert “m” oder “f” haben kann. Das Geburtsdatum soll zensiert als ```XXXX-XX-XX``` eingetragen werden.\n",
    "\n",
    "Überschreiben Sie nun wieder die ```introduce```-Methode der ```Person```-Klasse. Sie soll nun eine Meldung wie die folgende als String zurückgeben:\n",
    "\n",
    "```{sound}, my name is {name}, but at night I am {species}{suffix_according_to_sex}!```  \n",
    "\n",
    "```{sound}```, ```{name}```, ```{species}``` ersetzen Sie mit den Werten der jeweiligen Attribute.  \n",
    "```suffix_according_to_sex``` ist ```man```, wenn ```sex == 'm'```, sonst ```woman```.  \n",
    "```species``` und ```suffix_according_to_sex``` geben Sie in Großbuchstaben aus. \n",
    "Hinweis: Achten Sie dabei darauf, dass ```{sound}``` in Ihrer Rückgabe mit einem Großbuchstaben beginnen muss, da es am Satzanfang steht!\n",
    "\n",
    "Ein männlicher Superhero namens \"Bob\" mit der species \"fish\" und der noise \"blubb\" hat also folgenden String als Returnwert:   \n",
    "```Blubb, my name is Bob, but at night I am FISHMAN!```\n",
    "\n",
    "<font color=\"red\">**Hinweis:**</font> In ursprünglichen Version der Angabe wurde beim der ```introduce``` Funktion die Variable ```noise``` referenziert. Diese sollte ```sound``` sein. Dies wurde nun vereinheitlicht. Beim Testen ist sowohl ```sound``` als auch ```noise``` erlaubt."
   ]
  },
  {
   "cell_type": "code",
   "execution_count": 17,
   "metadata": {},
   "outputs": [],
   "source": [
    "# Write your code for 4 below\n",
    "class Animal:\n",
    "    def __init__(self, species, sound):\n",
    "        self.species = species\n",
    "        self.sound = sound\n",
    "        \n",
    "    @property\n",
    "    def species(self):\n",
    "        return self._species\n",
    "    \n",
    "    @species.setter\n",
    "    def species(self, species):\n",
    "        if not isinstance(species, str):\n",
    "            raise TypeError(\"species has to be of type string\")\n",
    "        self._species = species\n",
    "            \n",
    "    @property\n",
    "    def sound(self):\n",
    "        return self._sound\n",
    "    \n",
    "    @sound.setter\n",
    "    def sound(self, sound):\n",
    "        if not isinstance(sound, str):\n",
    "            raise TypeError(\"sound has to be of type string\")\n",
    "        self._sound = sound\n",
    "        \n",
    "class Superhero(Person, Animal):\n",
    "    def __init__(self, name, sex, species, sound):\n",
    "        Person.__init__(self, name, \"XXXX-XX-XX\")\n",
    "        Animal.__init__(self, species, sound)\n",
    "        self.sex = sex\n",
    "        \n",
    "    @property\n",
    "    def sex(self):\n",
    "        return self._sex\n",
    "    \n",
    "    @sex.setter\n",
    "    def sex(self, sex):\n",
    "        if sex not in (\"m\", \"f\"):\n",
    "            raise ValueError(\"sex has to be either 'f' or 'm'\")\n",
    "        self._sex = sex\n",
    "        \n",
    "    def introduce(self):\n",
    "        sound = self.sound[0].upper() + self.sound[1:]\n",
    "        superhero_name = self.species.upper() + \"MAN\" if self.sex == \"m\" else \"WOMAN\"\n",
    "        return f\"{sound}, my name is {self.name}, but at night I am {superhero_name}!\""
   ]
  },
  {
   "cell_type": "code",
   "execution_count": 19,
   "metadata": {},
   "outputs": [
    {
     "name": "stdout",
     "output_type": "stream",
     "text": [
      "Blubb, my name is Bob, but at night I am FISHMAN!\n"
     ]
    }
   ],
   "source": [
    "# Cell to test your code above\n",
    "bob = Superhero(\"Bob\", \"m\", \"fish\", \"blubb\")\n",
    "print(bob.introduce())"
   ]
  },
  {
   "cell_type": "code",
   "execution_count": null,
   "metadata": {},
   "outputs": [],
   "source": []
  }
 ],
 "metadata": {
  "kernelspec": {
   "display_name": "Python 3",
   "language": "python",
   "name": "python3"
  },
  "language_info": {
   "codemirror_mode": {
    "name": "ipython",
    "version": 3
   },
   "file_extension": ".py",
   "mimetype": "text/x-python",
   "name": "python",
   "nbconvert_exporter": "python",
   "pygments_lexer": "ipython3",
   "version": "3.7.2"
  }
 },
 "nbformat": 4,
 "nbformat_minor": 2
}
